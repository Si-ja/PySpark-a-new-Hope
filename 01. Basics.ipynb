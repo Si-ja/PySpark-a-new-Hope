{
 "cells": [
  {
   "cell_type": "markdown",
   "metadata": {},
   "source": [
    "# Grounds\n",
    "\n",
    "This and subsequent notebooks will build on many concepts of using Spark and PySpark particularly, using various online resources.\n",
    "\n",
    "The idea of these notebooks is to accumulate information in a more concise manner than it is presented online and present the final user with some concepts to ponder about and re-utilize in own work.\n",
    "\n",
    "This notebook concentrates on using [First Steps with PySpark](https://realpython.com/pyspark-intro/) lesson from Realpython.com."
   ]
  },
  {
   "cell_type": "markdown",
   "metadata": {},
   "source": [
    "One of the things that will have to be understood by the PySpark user is the anonymous functions denoted in python with `lambda`. These functions are without a name, and essentially are oneliners (they cannot be of multiple lines). Together with that, examples like filter(), map() and reduce() should at very least be seen before moving to pyspark."
   ]
  },
  {
   "cell_type": "code",
   "execution_count": 1,
   "metadata": {},
   "outputs": [
    {
     "name": "stdout",
     "output_type": "stream",
     "text": [
      "['Adam', 'Eva', 'cherry', 'nico', 'uumuu']\n",
      "['Adam', 'cherry', 'Eva', 'nico', 'uumuu']\n"
     ]
    }
   ],
   "source": [
    "# Example\n",
    "x = [\"Adam\", \"nico\", \"Eva\", \"uumuu\", \"cherry\"]\n",
    "print(sorted(x))                                    # because of case sensitivity some variables change places\n",
    "print(sorted(x, key=lambda words: words.lower()))   # sorting is case insensitive"
   ]
  },
  {
   "cell_type": "code",
   "execution_count": 2,
   "metadata": {},
   "outputs": [
    {
     "name": "stdout",
     "output_type": "stream",
     "text": [
      "['One', 'of', 'these', 'is', '...', 'not', 'like', 'the', 'others!']\n",
      "['One', 'of', 'these', 'is', 'not', 'like', 'the', 'others!']\n"
     ]
    }
   ],
   "source": [
    "# work with filtering of information\n",
    "string_text = \"One of these is ... not like the others!\"\n",
    "list_text   = [word for word in string_text.split(\" \")]\n",
    "print(list_text) # This will be used as the variable to experiment with\n",
    "\n",
    "# In the following example \"...\" will be removed from all the list_text possible values\n",
    "print(list(filter(lambda values: \"...\" not in values, list_text)))\n",
    "\n",
    "# If list is not called in the last instance, the\n",
    "# filter output as an itteretable will be returned. And that's an object."
   ]
  },
  {
   "cell_type": "code",
   "execution_count": 3,
   "metadata": {},
   "outputs": [
    {
     "name": "stdout",
     "output_type": "stream",
     "text": [
      "['oNe', 'oF', 'tHeSe', 'iS', '...', 'nOt', 'lIkE', 'tHe', 'oThErS!']\n"
     ]
    }
   ],
   "source": [
    "# map an application of a method or a function to a variable\n",
    "def spongebob_it(text):\n",
    "    \"\"\"\n",
    "    Make text look like it is in a spongebob meme.\n",
    "    \n",
    "    input:\n",
    "        text (str)    - a simple string\n",
    "        \n",
    "    ouput:\n",
    "        new_txt (str) - a simple string\n",
    "        \n",
    "    Example:\n",
    "        input: Hello\n",
    "        output: HeLlO\n",
    "    \"\"\"\n",
    "    text = text.lower()\n",
    "    new_text = \"\"\n",
    "    for i, letter in enumerate(text):\n",
    "        if (i+1) % 2 == 0:\n",
    "            new_text += letter.upper()\n",
    "        else:\n",
    "            new_text += letter\n",
    "    return new_text\n",
    "\n",
    "print(list(map(lambda word: spongebob_it(word), list_text)))"
   ]
  },
  {
   "cell_type": "code",
   "execution_count": 4,
   "metadata": {},
   "outputs": [
    {
     "name": "stdout",
     "output_type": "stream",
     "text": [
      "Oneoftheseis...notliketheothers!\n"
     ]
    }
   ],
   "source": [
    "# reduce() reduces the iteretable to a single item\n",
    "# Therefore, list() is also not used in this case\n",
    "from functools import reduce\n",
    "print(reduce(lambda x1, x2: x1 + x2, list_text))"
   ]
  }
 ],
 "metadata": {
  "kernelspec": {
   "display_name": "Python 3",
   "language": "python",
   "name": "python3"
  },
  "language_info": {
   "codemirror_mode": {
    "name": "ipython",
    "version": 3
   },
   "file_extension": ".py",
   "mimetype": "text/x-python",
   "name": "python",
   "nbconvert_exporter": "python",
   "pygments_lexer": "ipython3",
   "version": "3.8.5"
  }
 },
 "nbformat": 4,
 "nbformat_minor": 4
}
